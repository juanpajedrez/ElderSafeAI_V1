{
 "cells": [
  {
   "cell_type": "markdown",
   "metadata": {},
   "source": [
    "# CNN: Export frames:\n",
    "\n",
    "The following jupyter notebook would contain a class, that would use the frameseriers loader dataloader, in order to export the following:\n",
    "1. Create a folder of frames.\n",
    "2. Inside frames, create a folder for every chute.\n",
    "3. For every chute, create 8 different folder for each camera.\n",
    "3. For every camera, create two folders (fall, no_fall)\n",
    "4. Inside each folder, save 5 frames (from a specific index set by user) to save 5 optical flow gradients.\n",
    "5. Inside each folder, save 5 frames (from a specific index set by user) to save 5 orig images."
   ]
  },
  {
   "cell_type": "code",
   "execution_count": 6,
   "metadata": {},
   "outputs": [],
   "source": [
    "import pandas as pd\n",
    "import numpy as np\n",
    "import os\n",
    "import torch\n",
    "import matplotlib.pyplot as plt\n",
    "import seaborn as sns\n",
    "import cv2\n",
    "import utils\n",
    "from tqdm import tqdm"
   ]
  },
  {
   "cell_type": "code",
   "execution_count": 7,
   "metadata": {},
   "outputs": [
    {
     "name": "stdout",
     "output_type": "stream",
     "text": [
      "True\n",
      "True\n",
      "True\n"
     ]
    }
   ],
   "source": [
    "# See of Data path exists\n",
    "RAW_DATA_PATH = os.path.join(os.getcwd(), os.pardir, \"data\", \"MultiCamFall\")\n",
    "print(os.path.exists(RAW_DATA_PATH))\n",
    "\n",
    "VIDEO_PATH = os.path.join(RAW_DATA_PATH, \"dataset\", \"dataset\")\n",
    "print(os.path.exists(VIDEO_PATH))\\\n",
    "\n",
    "OF_DATA_PATH = os.path.join(os.getcwd(), \"images\")\n",
    "print(os.path.exists(OF_DATA_PATH))"
   ]
  },
  {
   "cell_type": "code",
   "execution_count": 8,
   "metadata": {},
   "outputs": [],
   "source": [
    "#lets obtain the metadata file\n",
    "df_metadata = pd.read_csv(os.path.join(RAW_DATA_PATH, \"data_tuple3.csv\"))\n",
    "df_metadata.loc[df_metadata[\"cam\"] == 55, \"cam\"] = 3.0"
   ]
  },
  {
   "cell_type": "code",
   "execution_count": 9,
   "metadata": {},
   "outputs": [],
   "source": [
    "# Get the device if cuda or not\n",
    "device = torch.device(\"cuda\" if torch.cuda.is_available() else \"cpu\")"
   ]
  },
  {
   "cell_type": "code",
   "execution_count": null,
   "metadata": {},
   "outputs": [],
   "source": []
  },
  {
   "cell_type": "markdown",
   "metadata": {},
   "source": [
    "### 1. Use the Series dataloader in order to see if its ready for usage."
   ]
  },
  {
   "cell_type": "code",
   "execution_count": 10,
   "metadata": {},
   "outputs": [],
   "source": [
    "#Create datasets and dataloaders\n",
    "test_dataset = utils.FigDatasetSeries(data_path=OF_DATA_PATH,\\\n",
    "    dataframe=df_metadata, device=device)\n"
   ]
  },
  {
   "cell_type": "markdown",
   "metadata": {},
   "source": [
    "### 2. Lets create the class that would perform the setup we need, and then with the dataloader; obtain the required frames.\n",
    "Now, lets create the class that would do the setup"
   ]
  },
  {
   "cell_type": "code",
   "execution_count": 54,
   "metadata": {},
   "outputs": [],
   "source": [
    "from PIL import Image\n",
    "\n",
    "class ExportFrames:\n",
    "    '''\n",
    "    Class that would export the necessary frames, as well\n",
    "    as setup the folder to export these frames.\n",
    "    '''\n",
    "    def __init__(self, dataframe: pd.DataFrame, \\\n",
    "            dataloader:utils.FigDatasetSeries, export_csv_path:str,\n",
    "            data_path:str, frame_idx_start:int = 15, frames_export:int = 5):\n",
    "        '''\n",
    "        Parameters:\n",
    "            dataframe(pd.Dataframe): Pandas dataframe that would be used for metadata of files.\n",
    "            dataloader(utils.FigDatasetSeries): Dataloader that would laod all required images.\n",
    "            export_csv(str): Export csv path where we want to export specific frames.\n",
    "            data_path(str): Data path where all of the OFs and orig images are stored.\n",
    "            frame_idx_start(int): number between 0 to 30, where would index which frames to get.\n",
    "            frames_export(int): Number of frames to export, per chute, per cam.\n",
    "        '''\n",
    "        self.dataframe = dataframe\n",
    "        self.dataloader = dataloader\n",
    "        self.export_csv_path = export_csv_path\n",
    "        self.data_path = data_path\n",
    "        self.frame_idx_start = frame_idx_start\n",
    "        self.frames_export = frames_export\n",
    "\n",
    "        #Obtain all self.chutes and cameras\n",
    "        self.chutes = df_metadata[\"chute\"].unique().astype(np.uint8)\n",
    "        self.cam_range = df_metadata[\"cam\"].unique().astype(np.uint8)\n",
    "        ...\n",
    "\n",
    "    def export_frames(self):\n",
    "        '''\n",
    "        Instance method that activates everything to export the specific frames\n",
    "        '''\n",
    "        self.setup_folders()\n",
    "        self.iterate_data()\n",
    "\n",
    "    def setup_folders(self):\n",
    "        '''\n",
    "        Instance method that would setup the folder when necessary\n",
    "        '''\n",
    "\n",
    "        #Set up the foldert to export everything\n",
    "        exp_path = os.path.join(self.export_csv_path, \"export\")\n",
    "        if os.path.exists(exp_path) == False:\n",
    "            os.mkdir(exp_path)\n",
    "\n",
    "        for chute in self.chutes:\n",
    "            #Have a chute path, and check if exists to create\n",
    "            chute_path = os.path.join(exp_path, f\"chute_{str(chute)}\")\n",
    "            if os.path.exists(chute_path) == False:\n",
    "                os.mkdir(chute_path)\n",
    "            for cam in self.cam_range:\n",
    "                #Have a cam path, and check if exists to create\n",
    "                cam_path = os.path.join(chute_path, f\"cam_{str(cam)}\")\n",
    "                if os.path.exists(cam_path) == False:\n",
    "                    os.mkdir(cam_path)\n",
    "                # Have a fall and no_fall paths and check if exists to create\n",
    "                fall_path = os.path.join(cam_path, \"fall\")\n",
    "                no_fall_path = os.path.join(cam_path, \"no_fall\")\n",
    "                if os.path.exists(fall_path) == False:\n",
    "                    os.mkdir(fall_path)\n",
    "                if os.path.exists(no_fall_path) == False:\n",
    "                    os.mkdir(no_fall_path)\n",
    "    \n",
    "    def iterate_data(self) -> None:\n",
    "        '''\n",
    "        Method that exports the data to their respective folders\n",
    "        '''\n",
    "\n",
    "        for chute in self.chutes:\n",
    "            # Select the df_subset_chute\n",
    "            df_subset_chute = self.dataframe[self.dataframe[\"chute\"] == chute]\n",
    "            for cam in self.cam_range:\n",
    "                \n",
    "                #Now lets select by cam\n",
    "                df_subset_cam = df_subset_chute[df_subset_chute[\"cam\"] == cam]\n",
    "\n",
    "                # Select from df_subset_chute, df_fall, df_no_fall\n",
    "                df_fall:pd.DataFrame = df_subset_cam[df_subset_cam[\"label\"] == 1]\n",
    "                df_no_fall:pd.DataFrame = df_subset_cam[df_subset_cam[\"label\"] == 0]\n",
    "\n",
    "                #Select only the first row of df_fall (we just want one scenario)\n",
    "                row_fall = df_fall.iloc[0]\n",
    "                row_no_fall = df_no_fall.iloc[0]\n",
    "\n",
    "                #Now obtain the frames\n",
    "                self.read_row_frames(row_fall)\n",
    "                self.read_row_frames(row_no_fall)\n",
    "    \n",
    "    def read_row_frames(self, row:pd.DataFrame):\n",
    "        '''\n",
    "        Instance method that would obtain the row frames,\n",
    "        and download them respectively.\n",
    "        Parameters:\n",
    "            row(pd.DataFrame): Dataframe row that would retrieve the\n",
    "            frames that would be used for for download.\n",
    "        '''\n",
    "        #Obtain the important information\n",
    "        chute = int(row['chute'])\n",
    "        cam = int(row['cam'])\n",
    "        start = int(row['start'])\n",
    "        end = int(row['end'])\n",
    "        label = int(row[\"label\"])\n",
    "\n",
    "        #Lets now see which label, to access the corresponding dir inside data path\n",
    "        if label == 1:\n",
    "            retrieval_path = os.path.join(self.data_path, \"fall\")\n",
    "            export_path = os.path.join(self.export_csv_path,\\\n",
    "                \"export\", f\"chute_{str(chute)}\", f\"cam_{str(cam)}\", \"fall\")\n",
    "        else:\n",
    "            retrieval_path = os.path.join(self.data_path, \"no_fall\")\n",
    "            export_path = os.path.join(self.export_csv_path,\\\n",
    "                \"export\", f\"chute_{str(chute)}\", f\"cam_{str(cam)}\", \"no_fall\")\n",
    "\n",
    "        #Name of the video\n",
    "        frame_name = f\"chute{chute:02d}_cam{cam}_frames_{start}_{end}_\"\n",
    "\n",
    "        #Set the idx frame start and end\n",
    "        idx_frame_start = start + self.frame_idx_start - 1\n",
    "        idx_frame_end = start + self.frame_idx_start + self.frames_export - 1\n",
    "\n",
    "        #Iterate across each index\n",
    "        for i in np.arange(idx_frame_start, idx_frame_end):\n",
    "\n",
    "            # Read the orig image and flow image\n",
    "            orig_image_path = os.path.join(retrieval_path, frame_name + f\"_{i}.jpg\")\n",
    "            image = np.array(Image.open(orig_image_path))\n",
    "\n",
    "            # Read the .npy file\n",
    "            optical_flow_path = os.path.join(retrieval_path, frame_name + f\"_{i}.npy\")\n",
    "            flow = np.load(optical_flow_path)\n",
    "\n",
    "            # Create a download path for orig image and flow image\n",
    "            down_img_path = os.path.join(export_path, frame_name + f\"_{i}_orig_frame.jpg\")\n",
    "            down_flow_path = os.path.join(export_path, frame_name + f\"_{i}_flow_frame.jpg\")\n",
    "\n",
    "            # If it doesn't exist, download it.\n",
    "            if not os.path.exists(down_img_path):\n",
    "                Image.fromarray(image).save(down_img_path, quality=95)\n",
    "            if not os.path.exists(down_flow_path):\n",
    "                Image.fromarray(flow).save(down_flow_path, quality = 95)"
   ]
  },
  {
   "cell_type": "markdown",
   "metadata": {},
   "source": [
    "### 3. Obtain the frames."
   ]
  },
  {
   "cell_type": "code",
   "execution_count": 55,
   "metadata": {},
   "outputs": [],
   "source": [
    "# Create a class\n",
    "exporter = ExportFrames(dataframe=df_metadata,\\\n",
    "    dataloader=test_dataset, export_csv_path = os.getcwd(),\n",
    "    data_path=OF_DATA_PATH,frame_idx_start=15)"
   ]
  },
  {
   "cell_type": "code",
   "execution_count": 56,
   "metadata": {},
   "outputs": [],
   "source": [
    "exporter.export_frames()"
   ]
  }
 ],
 "metadata": {
  "kernelspec": {
   "display_name": "venv",
   "language": "python",
   "name": "python3"
  },
  "language_info": {
   "codemirror_mode": {
    "name": "ipython",
    "version": 3
   },
   "file_extension": ".py",
   "mimetype": "text/x-python",
   "name": "python",
   "nbconvert_exporter": "python",
   "pygments_lexer": "ipython3",
   "version": "3.12.5"
  }
 },
 "nbformat": 4,
 "nbformat_minor": 2
}
